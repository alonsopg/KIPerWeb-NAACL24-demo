{
 "cells": [
  {
   "cell_type": "code",
   "execution_count": null,
   "id": "89acb3fa",
   "metadata": {
    "scrolled": true
   },
   "outputs": [],
   "source": [
    "import sys\n",
    "sys.path.append(\"/Users/user/question-retrieval-KIPerWeb/\")\n",
    "from utils import *\n",
    "import pandas as pd\n",
    "import re\n",
    "from sentence_transformers import SentenceTransformer\n",
    "import json\n",
    "from nltk.stem.cistem import Cistem\n",
    "from nltk.corpus import stopwords\n",
    "from ranx import Qrels, evaluate, Run, compare\n",
    "import swifter\n",
    "import json\n",
    "import requests\n",
    "from sklearn.preprocessing import LabelEncoder\n",
    "from trectools import TrecPoolMaker, TrecRun\n",
    "from tqdm import tqdm\n",
    "from collections import Counter\n",
    "import spacy\n",
    "from io import StringIO"
   ]
  },
  {
   "cell_type": "markdown",
   "id": "1df89a7f",
   "metadata": {},
   "source": [
    "## Read the QB's sample"
   ]
  },
  {
   "cell_type": "code",
   "execution_count": null,
   "id": "02c18286",
   "metadata": {
    "scrolled": true
   },
   "outputs": [],
   "source": [
    "# Read preprocessed data\n",
    "qb = pd.read_csv(\"/Users/user/question-retrieval-KIPerWeb/testbeds/samples/qb_stratified-sample.csv\").fillna(\"N/A\")\n",
    "qb = qb.drop(columns=['docid'])\n",
    "qb.rename(columns={\"category\":\"topic_label_de_fixed\"}, inplace=True)\n",
    "qb['docid'] = qb.index\n",
    "qb['content'] = qb['content'].apply(lambda x:remove_stop_words(x, 'german'))\n",
    "\n",
    "\n",
    "# Preprocessing\n",
    "# Models for preprocessing\n",
    "nlp = spacy.load(\"de_core_news_sm\")\n",
    "tagger_de = ht.HanoverTagger('morphmodel_ger.pgz')\n",
    "\n",
    "qb['content'] = qb['content'].apply(lambda x : preprocess_documents(x, tagger_de))\n",
    "qb"
   ]
  },
  {
   "cell_type": "code",
   "execution_count": null,
   "id": "532fa5a9",
   "metadata": {},
   "outputs": [],
   "source": [
    "print(qb['text'].iloc[3], qb['answers_content'].iloc[3])\n",
    "print(qb['content'].iloc[3])"
   ]
  },
  {
   "cell_type": "markdown",
   "id": "0ee5f20c",
   "metadata": {},
   "source": [
    "## Calculate Embeddings and Initialize NMSLIB Indices"
   ]
  },
  {
   "cell_type": "code",
   "execution_count": null,
   "id": "b0e16cea",
   "metadata": {
    "scrolled": true
   },
   "outputs": [],
   "source": [
    "model_1 = SentenceTransformer(\"sentence-transformers/paraphrase-multilingual-mpnet-base-v2\")\n",
    "model_2 = SentenceTransformer(\"aari1995/German_Semantic_STS_V2\")\n",
    "# model_2.tokenizer.pad_token = model_2.tokenizer.eos_token\n",
    "\n",
    "model_3 = SentenceTransformer(\"sentence-transformers/LaBSE\")\n",
    "model_4 = SentenceTransformer(\"PM-AI/bi-encoder_msmarco_bert-base_german\")\n",
    "model_5 = SentenceTransformer(\"efederici/e5-base-multilingual-4096\")\n",
    "model_6 = SentenceTransformer(\"intfloat/multilingual-e5-base\")\n",
    "model_7 = SentenceTransformer(\"clips/mfaq\")\n",
    "model_8 = SentenceTransformer(\"PM-AI/sts_paraphrase_xlm-roberta-base_de-en\")\n",
    "model_9 = SentenceTransformer(\"deutsche-telekom/gbert-large-paraphrase-euclidean\")\n",
    "model_10 = SentenceTransformer(\"LLukas22/all-MiniLM-L12-v2-embedding-all\")\n",
    "model_11 = SentenceTransformer(\"LLukas22/paraphrase-multilingual-mpnet-base-v2-embedding-all\")\n",
    "model_12 = SentenceTransformer(\"sentence-transformers/distiluse-base-multilingual-cased-v1\")\n",
    "model_13 = SentenceTransformer(\"sentence-transformers/distiluse-base-multilingual-cased-v2\")\n",
    "model_14 = SentenceTransformer(\"deutsche-telekom/gbert-large-paraphrase-cosine\")\n",
    "model_15 = SentenceTransformer(\"shibing624/text2vec-base-multilingual\")\n",
    "model_16 = SentenceTransformer(\"Sahajtomar/German-semantic\")\n",
    "model_17 = SentenceTransformer(\"setu4993/LaBSE\")\n",
    "model_18 = SentenceTransformer(\"symanto/sn-xlm-roberta-base-snli-mnli-anli-xnli\")\n",
    "model_19 = SentenceTransformer(\"and-effect/musterdatenkatalog_clf\")\n",
    "model_20 = SentenceTransformer(\"nblokker/debatenet-2-cat\")\n",
    "model_21 = SentenceTransformer(\"setu4993/LEALLA-large\")\n",
    "model_22 = SentenceTransformer(\"dell-research-harvard/lt-wikidata-comp-de\")\n",
    "model_23 = SentenceTransformer(\"ef-zulla/e5-multi-sml-torch\")\n",
    "model_24 = SentenceTransformer(\"barisaydin/text2vec-base-multilingual\")\n",
    "model_25 = SentenceTransformer(\"meta-llama/Llama-2-7b-chat-hf\")\n",
    "model_25.tokenizer.pad_token = model_25.tokenizer.eos_token\n"
   ]
  },
  {
   "cell_type": "code",
   "execution_count": null,
   "id": "964779f4",
   "metadata": {
    "scrolled": true
   },
   "outputs": [],
   "source": [
    "# # # # # Create the indices\n",
    "\n",
    "# index_1 = create_index(qb, model_1, index_path=\"/Users/user/question-retrieval-KIPerWeb/nmslib_indices/sentence-transformers-paraphrase-multilingual-mpnet-base-v2.nmslib\")\n",
    "# index_2 = create_index(qb, model_2, index_path=\"/Users/user/question-retrieval-KIPerWeb/nmslib_indices/aari1995-German_Semantic_STS_V2.nmslib\")\n",
    "# index_3 = create_index(qb, model_3, index_path=\"/Users/user/question-retrieval-KIPerWeb/nmslib_indices/sentence-transformers-LaBSE.nmslib\")\n",
    "# index_4 = create_index(qb, model_4, index_path=\"/Users/user/question-retrieval-KIPerWeb/nmslib_indices/PM-AI-bi-encoder_msmarco_bert-base_german.nmslib\")\n",
    "# index_5 = create_index(qb, model_5, index_path=\"/Users/user/question-retrieval-KIPerWeb/nmslib_indices/efederici-e5-base-multilingual-4096.nmslib\")\n",
    "# index_6 = create_index(qb, model_6, index_path=\"/Users/user/question-retrieval-KIPerWeb/nmslib_indices/intfloat-multilingual-e5-base.nmslib\")\n",
    "# index_7 = create_index(qb, model_7, index_path=\"/Users/user/question-retrieval-KIPerWeb/nmslib_indices/clips-mfaq.nmslib\")\n",
    "# index_8 = create_index(qb, model_8, index_path=\"/Users/user/question-retrieval-KIPerWeb/nmslib_indices/PM-AI-sts_paraphrase_xlm-roberta-base_de-en.nmslib\")\n",
    "# index_9 = create_index(qb, model_9, index_path=\"/Users/user/question-retrieval-KIPerWeb/nmslib_indices/deutsche-telekom-gbert-large-paraphrase-euclidean.nmslib\")\n",
    "# index_10 = create_index(qb, model_10, index_path=\"/Users/user/question-retrieval-KIPerWeb/nmslib_indices/LLukas22-all-MiniLM-L12-v2-embedding-all.nmslib\")\n",
    "# index_11 = create_index(qb, model_11, index_path=\"/Users/user/question-retrieval-KIPerWeb/nmslib_indices/LLukas22-paraphrase-multilingual-mpnet-base-v2-embedding-all.nmslib\")\n",
    "# index_12 = create_index(qb, model_12, index_path=\"/Users/user/question-retrieval-KIPerWeb/nmslib_indices/sentence-transformers-distiluse-base-multilingual-cased-v1.nmslib\")\n",
    "# index_13 = create_index(qb, model_13, index_path=\"/Users/user/question-retrieval-KIPerWeb/nmslib_indices/sentence-transformers-distiluse-base-multilingual-cased-v2.nmslib\")\n",
    "# index_14 = create_index(qb, model_14, index_path=\"/Users/user/question-retrieval-KIPerWeb/nmslib_indices/deutsche-telekom-gbert-large-paraphrase-cosine.nmslib\")\n",
    "# index_15 = create_index(qb, model_15, index_path=\"/Users/user/question-retrieval-KIPerWeb/nmslib_indices/shibing624-text2vec-base-multilingual.nmslib\")\n",
    "# index_16 = create_index(qb, model_16, index_path=\"/Users/user/question-retrieval-KIPerWeb/nmslib_indices/Sahajtomar-German-semantic.nmslib\")\n",
    "# index_17 = create_index(qb, model_17, index_path=\"/Users/user/question-retrieval-KIPerWeb/nmslib_indices/setu4993-LaBSE.nmslib\")\n",
    "# index_18 = create_index(qb, model_18, index_path=\"/Users/user/question-retrieval-KIPerWeb/nmslib_indices/symanto-sn-xlm-roberta-base-snli-mnli-anli-xnli.nmslib\")\n",
    "# index_19 = create_index(qb, model_19, index_path=\"/Users/user/question-retrieval-KIPerWeb/nmslib_indices/and-effect-musterdatenkatalog_clf.nmslib\")\n",
    "# index_20 = create_index(qb, model_20, index_path=\"/Users/user/question-retrieval-KIPerWeb/nmslib_indices/nblokker-debatenet-2-cat.nmslib\")\n",
    "# index_21 = create_index(qb, model_21, index_path=\"/Users/user/question-retrieval-KIPerWeb/nmslib_indices/setu4993-LEALLA-large.nmslib\")\n",
    "# index_22 = create_index(qb, model_22, index_path=\"/Users/user/question-retrieval-KIPerWeb/nmslib_indices/dell-research-harvard-lt-wikidata-comp-de.nmslib\")\n",
    "# index_23 = create_index(qb, model_23, index_path=\"/Users/user/question-retrieval-KIPerWeb/nmslib_indices/ef-zulla-e5-multi-sml-torch.nmslib\")\n",
    "# index_24 = create_index(qb, model_24, index_path=\"/Users/user/question-retrieval-KIPerWeb/nmslib_indices/barisaydin-text2vec-base-multilingual.nmslib\")\n",
    "# index_25 = create_index(qb, model_25, index_path=\"/Users/user/question-retrieval-KIPerWeb/nmslib_indices/meta-llama-Llama-2-7b-chat-hf.nmslib\")\n",
    "\n",
    "\n",
    "# # Or load them:\n",
    "index_1 = load_nmslib_index(\"/Users/user/question-retrieval-KIPerWeb/nmslib_indices/sentence-transformers-paraphrase-multilingual-mpnet-base-v2.nmslib\")\n",
    "index_2 = load_nmslib_index(\"/Users/user/question-retrieval-KIPerWeb/nmslib_indices/aari1995-German_Semantic_STS_V2.nmslib\")\n",
    "index_3 = load_nmslib_index(\"/Users/user/question-retrieval-KIPerWeb/nmslib_indices/sentence-transformers-LaBSE.nmslib\")\n",
    "index_4 = load_nmslib_index(\"/Users/user/question-retrieval-KIPerWeb/nmslib_indices/PM-AI-bi-encoder_msmarco_bert-base_german.nmslib\")\n",
    "index_5 = load_nmslib_index(\"/Users/user/question-retrieval-KIPerWeb/nmslib_indices/efederici-e5-base-multilingual-4096.nmslib\")\n",
    "index_6 = load_nmslib_index(\"/Users/user/question-retrieval-KIPerWeb/nmslib_indices/intfloat-multilingual-e5-base.nmslib\")\n",
    "index_7 = load_nmslib_index(\"/Users/user/question-retrieval-KIPerWeb/nmslib_indices/clips-mfaq.nmslib\")\n",
    "index_8 = load_nmslib_index(\"/Users/user/question-retrieval-KIPerWeb/nmslib_indices/PM-AI-sts_paraphrase_xlm-roberta-base_de-en.nmslib\")\n",
    "index_9 = load_nmslib_index(\"/Users/user/question-retrieval-KIPerWeb/nmslib_indices/deutsche-telekom-gbert-large-paraphrase-euclidean.nmslib\")\n",
    "index_10 = load_nmslib_index(\"/Users/user/question-retrieval-KIPerWeb/nmslib_indices/LLukas22-all-MiniLM-L12-v2-embedding-all.nmslib\")\n",
    "index_11 = load_nmslib_index(\"/Users/user/question-retrieval-KIPerWeb/nmslib_indices/LLukas22-paraphrase-multilingual-mpnet-base-v2-embedding-all.nmslib\")\n",
    "index_12 = load_nmslib_index(\"/Users/user/question-retrieval-KIPerWeb/nmslib_indices/sentence-transformers-distiluse-base-multilingual-cased-v1.nmslib\")\n",
    "index_13 = load_nmslib_index(\"/Users/user/question-retrieval-KIPerWeb/nmslib_indices/sentence-transformers-distiluse-base-multilingual-cased-v2.nmslib\")\n",
    "index_14 = load_nmslib_index(\"/Users/user/question-retrieval-KIPerWeb/nmslib_indices/deutsche-telekom-gbert-large-paraphrase-cosine.nmslib\")\n",
    "index_15 = load_nmslib_index(\"/Users/user/question-retrieval-KIPerWeb/nmslib_indices/shibing624-text2vec-base-multilingual.nmslib\")\n",
    "index_16 = load_nmslib_index(\"/Users/user/question-retrieval-KIPerWeb/nmslib_indices/Sahajtomar-German-semantic.nmslib\")\n",
    "index_17 = load_nmslib_index(\"/Users/user/question-retrieval-KIPerWeb/nmslib_indices/setu4993-LaBSE.nmslib\")\n",
    "index_18 = load_nmslib_index(\"/Users/user/question-retrieval-KIPerWeb/nmslib_indices/symanto-sn-xlm-roberta-base-snli-mnli-anli-xnli.nmslib\")\n",
    "index_19 = load_nmslib_index(\"/Users/user/question-retrieval-KIPerWeb/nmslib_indices/and-effect-musterdatenkatalog_clf.nmslib\")\n",
    "index_20 = load_nmslib_index(\"/Users/user/question-retrieval-KIPerWeb/nmslib_indices/nblokker-debatenet-2-cat.nmslib\")\n",
    "index_21 = load_nmslib_index(\"/Users/user/question-retrieval-KIPerWeb/nmslib_indices/setu4993-LEALLA-large.nmslib\")\n",
    "index_22 = load_nmslib_index(\"/Users/user/question-retrieval-KIPerWeb/nmslib_indices/dell-research-harvard-lt-wikidata-comp-de.nmslib\")\n",
    "index_23 = load_nmslib_index(\"/Users/user/question-retrieval-KIPerWeb/nmslib_indices/ef-zulla-e5-multi-sml-torch.nmslib\")\n",
    "index_24 = load_nmslib_index(\"/Users/user/question-retrieval-KIPerWeb/nmslib_indices/barisaydin-text2vec-base-multilingual.nmslib\")\n",
    "\n",
    "index_25 = load_nmslib_index(\"/Users/user/question-retrieval-KIPerWeb/nmslib_indices/meta-llama-Llama-2-7b-chat-hf.nmslib\")\n"
   ]
  },
  {
   "cell_type": "code",
   "execution_count": null,
   "id": "f2a034bb",
   "metadata": {},
   "outputs": [],
   "source": [
    "## We could use queries:\n",
    "# queries_file = pd.read_csv(\"/Users/user/question-retrieval-KIPerWeb/testbeds/topics_experiments/topics/topics.csv\")\n",
    "queries_file = pd.read_csv(\"/Users/user/question-retrieval-KIPerWeb/testbeds/queries_experiments/queries/queries.csv\")\n",
    "queries_file['queries'] = queries_file['queries'].apply(clean_text)\n",
    "\n",
    "\n",
    "\n",
    "print(\"-> Number of queries:\",len(queries_file['queries'].tolist()))\n",
    "\n",
    "queries = queries_file['queries'].tolist()\n",
    "query_ids = queries_file['qid'].tolist()\n",
    "queries_file"
   ]
  },
  {
   "cell_type": "markdown",
   "id": "a16365bd",
   "metadata": {},
   "source": [
    "## Generate searches and store them as JSON files"
   ]
  },
  {
   "cell_type": "code",
   "execution_count": null,
   "id": "7e7c2537",
   "metadata": {
    "scrolled": true
   },
   "outputs": [],
   "source": [
    "path = '/Users/user/question-retrieval-KIPerWeb/runs/ANN_LM/json_format/'\n",
    "\n",
    "\n",
    "progress_bar = tqdm(zip(queries, query_ids), total=len(queries), desc=\"Processing\")\n",
    "\n",
    "for i, j in progress_bar:\n",
    "    progress_bar.set_description(f\"Processing query: {i}\")\n",
    "    search(i, index_1, model_1, qb, k=100, run_path=f'{path}query_{j}/run_01.json')\n",
    "    search(i, index_2, model_2, qb, k=100, run_path=f'{path}query_{j}/run_02.json')\n",
    "    search(i, index_3, model_3, qb, k=100, run_path=f'{path}query_{j}/run_03.json')\n",
    "    search(i, index_4, model_4, qb, k=100, run_path=f'{path}query_{j}/run_04.json')\n",
    "    search(i, index_5, model_5, qb, k=100, run_path=f'{path}query_{j}/run_05.json')\n",
    "    search(i, index_6, model_6, qb, k=100, run_path=f'{path}query_{j}/run_06.json')\n",
    "    search(i, index_7, model_7, qb, k=100, run_path=f'{path}query_{j}/run_07.json')\n",
    "    search(i, index_8, model_8, qb, k=100, run_path=f'{path}query_{j}/run_08.json')\n",
    "    search(i, index_9, model_9, qb, k=100, run_path=f'{path}query_{j}/run_09.json')\n",
    "    search(i, index_10, model_10, qb, k=100, run_path=f'{path}query_{j}/run_10.json')\n",
    "    search(i, index_11, model_11, qb, k=100, run_path=f'{path}query_{j}/run_11.json')\n",
    "    search(i, index_12, model_12, qb, k=100, run_path=f'{path}query_{j}/run_12.json')\n",
    "    search(i, index_13, model_13, qb, k=100, run_path=f'{path}query_{j}/run_13.json')\n",
    "    search(i, index_14, model_14, qb, k=100, run_path=f'{path}query_{j}/run_14.json')\n",
    "    search(i, index_15, model_15, qb, k=100, run_path=f'{path}query_{j}/run_15.json')\n",
    "    search(i, index_16, model_16, qb, k=100, run_path=f'{path}query_{j}/run_16.json')\n",
    "    search(i, index_17, model_17, qb, k=100, run_path=f'{path}query_{j}/run_17.json')\n",
    "    search(i, index_18, model_18, qb, k=100, run_path=f'{path}query_{j}/run_18.json')\n",
    "    search(i, index_19, model_19, qb, k=100, run_path=f'{path}query_{j}/run_19.json')\n",
    "    search(i, index_20, model_20, qb, k=100, run_path=f'{path}query_{j}/run_20.json')\n",
    "    search(i, index_21, model_21, qb, k=100, run_path=f'{path}query_{j}/run_21.json')\n",
    "    search(i, index_22, model_22, qb, k=100, run_path=f'{path}query_{j}/run_22.json')\n",
    "    search(i, index_23, model_23, qb, k=100, run_path=f'{path}query_{j}/run_23.json')\n",
    "    search(i, index_24, model_24, qb, k=100, run_path=f'{path}query_{j}/run_24.json')\n",
    "    search(i, index_25, model_25, qb, k=100, run_path=f'{path}query_{j}/run_25.json')"
   ]
  },
  {
   "cell_type": "markdown",
   "id": "14a1ea3a",
   "metadata": {},
   "source": [
    "## Preprocess all the synthetic searches and turn them into TREC style files"
   ]
  },
  {
   "cell_type": "code",
   "execution_count": null,
   "id": "9b76019f",
   "metadata": {},
   "outputs": [],
   "source": [
    "# List all the JSON outputs of each run\n",
    "\n",
    "path = '/Users/user/question-retrieval-KIPerWeb/runs/ANN_LM/json_format/'\n",
    "json_files = list_files_from_dir(path, extention='.json')\n",
    "# json_files"
   ]
  },
  {
   "cell_type": "code",
   "execution_count": null,
   "id": "d85aff70",
   "metadata": {},
   "outputs": [],
   "source": [
    "# # We check the size of the sessions\n",
    "# file = \"/Users/user/question-retrieval-KIPerWeb/runs/ANN_LM/json_format/query_0/LLukas22_all-MiniLM-L12-v2-embedding-all_run_10.json\"\n",
    "# assert 100 == len(read_json(file))\n",
    "\n",
    "def validate_length(list_of_files):\n",
    "    assert len(list_of_files) == 375, print(len(list_of_files))\n",
    "    for e in list_of_files:\n",
    "        assert 100 == len(read_json(e)), print(f\"{e} -> didnt match the a length of 100, it returned less:\", len(read_json(e)))\n",
    "    \n",
    "        \n",
    "validate_length(json_files)"
   ]
  },
  {
   "cell_type": "code",
   "execution_count": null,
   "id": "b343c9bf",
   "metadata": {
    "scrolled": true
   },
   "outputs": [],
   "source": [
    "# For each JSON output, transform the results to a TREC format\n",
    "\n",
    "for e in json_files:\n",
    "    try:\n",
    "        to_trec_format(e)\n",
    "    except IndexError:\n",
    "        print(f\"Error! in {e}\")"
   ]
  },
  {
   "cell_type": "code",
   "execution_count": null,
   "id": "0fcc3982",
   "metadata": {},
   "outputs": [],
   "source": [
    "#list the TREC formatted files, these have a .tsv extention\n",
    "list_files_from_dir(path, extention='.tsv')\n",
    "\n",
    "# Process all the runs and continue with the trec formatting\n",
    "path_list_processed = list_files_from_dir(path, extention='.tsv')\n",
    "\n",
    "list_of_dfs = []\n",
    "for e in path_list_processed:\n",
    "    df = pd.concat([pd.read_csv(e, header=None, sep='\\t', names=[\"queries\", \"Q0\", \"docid\", \"rank\", \"score\", \"tag\"])])\n",
    "    list_of_dfs.append(df)\n",
    "    \n",
    "\n",
    "\n",
    "all_runs = pd.concat(list_of_dfs).reset_index(drop=True)\n",
    "\n",
    "\n",
    "all_runs= all_runs.merge(queries_file,on='queries')\n",
    "# all_runs = all_runs[[\"qid\", \"Q0\", \"docid\", \"rank\", \"score\", \"tag\"]]\n",
    "all_runs = all_runs[[\"qid\", \"Q0\", \"docid\", \"score\", \"rank\", \"tag\"]]\n",
    "\n",
    "\n",
    "all_runs['qid'] = all_runs['qid'].astype(str)\n",
    "all_runs['docid'] = all_runs['docid'].astype(str)\n",
    "\n",
    "all_runs"
   ]
  },
  {
   "cell_type": "code",
   "execution_count": null,
   "id": "11bc114e",
   "metadata": {},
   "outputs": [],
   "source": [
    "# Extract runs by different LMs\n",
    "queries = list(set(all_runs['qid']))\n",
    "L_models = list(set(all_runs['tag']))\n",
    "runs = [all_runs.query(f'tag==\"{e}\"') for e in L_models]\n",
    "\n",
    "for i, j in zip(runs, L_models):\n",
    "    i.to_csv(f'/Users/user/question-retrieval-KIPerWeb/runs/ANN_LM/trec_format/{j}_run.txt', header = None, sep='\\t',index=False )\n",
    "    "
   ]
  },
  {
   "cell_type": "code",
   "execution_count": null,
   "id": "456f0446",
   "metadata": {},
   "outputs": [],
   "source": [
    "f = \"/Users/user/question-retrieval-KIPerWeb/testbeds/queries_experiments/trec_pools/testbed.csv\"\n",
    "\n",
    "qrels_df = pd.read_csv(f)\n",
    "qrels_df['qid'] = qrels_df['qid'].astype(str)\n",
    "qrels_df['docid'] = qrels_df['docid'].astype(str)\n",
    "\n",
    "qrels = Qrels.from_df(\n",
    "    df=qrels_df,\n",
    "    q_id_col=\"qid\",\n",
    "    doc_id_col=\"docid\",\n",
    "    score_col=\"qrel\",\n",
    ")"
   ]
  },
  {
   "cell_type": "code",
   "execution_count": null,
   "id": "43ee926b",
   "metadata": {},
   "outputs": [],
   "source": [
    "path = '/Users/user/question-retrieval-KIPerWeb/runs/ANN_LM/trec_format/'\n",
    "trec_runs = list_files_from_dir(path, extention='.txt')\n",
    "trec_runs\n",
    "\n",
    "runs = []\n",
    "for e in trec_runs:\n",
    "    runs.append(Run.from_file(e))\n",
    "    \n",
    "runs_names = []\n",
    "for e in trec_runs:\n",
    "    runs_names.append(get_last_element_of_path(e))\n"
   ]
  },
  {
   "cell_type": "code",
   "execution_count": null,
   "id": "adace63f",
   "metadata": {
    "scrolled": true
   },
   "outputs": [],
   "source": [
    "report = create_report(qrels, runs, runs_names, 25,\"/Users/user/question-retrieval-KIPerWeb/data/results/ANN_LM/ann_lm_metrics_at_25.csv\")\n",
    "report.sort_values(by='ndcg@25',  ascending=False).head(5)"
   ]
  },
  {
   "cell_type": "code",
   "execution_count": null,
   "id": "4a43335a",
   "metadata": {
    "scrolled": true
   },
   "outputs": [],
   "source": [
    "report = create_report(qrels, runs, runs_names, 50,\"/Users/user/question-retrieval-KIPerWeb/data/results/ANN_LM/ann_lm_metrics_at_50.csv\")\n",
    "report.sort_values(by='ndcg@50',  ascending=False).head(5)"
   ]
  },
  {
   "cell_type": "code",
   "execution_count": null,
   "id": "a4f5bb30",
   "metadata": {
    "scrolled": true
   },
   "outputs": [],
   "source": [
    "report = create_report(qrels, runs, runs_names, 100,\"/Users/user/question-retrieval-KIPerWeb/data/results/ANN_LM/ann_lm_metrics_at_100.csv\")\n",
    "report.sort_values(by='ndcg@100',  ascending=False).head(5)"
   ]
  }
 ],
 "metadata": {
  "kernelspec": {
   "display_name": "Python 3 (ipykernel)",
   "language": "python",
   "name": "python3"
  },
  "language_info": {
   "codemirror_mode": {
    "name": "ipython",
    "version": 3
   },
   "file_extension": ".py",
   "mimetype": "text/x-python",
   "name": "python",
   "nbconvert_exporter": "python",
   "pygments_lexer": "ipython3",
   "version": "3.9.19"
  }
 },
 "nbformat": 4,
 "nbformat_minor": 5
}
