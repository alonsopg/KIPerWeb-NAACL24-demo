{
 "cells": [
  {
   "cell_type": "code",
   "execution_count": null,
   "id": "06bdff2f",
   "metadata": {
    "scrolled": true
   },
   "outputs": [],
   "source": [
    "import sys\n",
    "sys.path.append(\"/Users/user/question-retrieval-KIPerWeb/\")\n",
    "from utils import *\n",
    "import pandas as pd\n",
    "import re\n",
    "from sentence_transformers import SentenceTransformer\n",
    "import json\n",
    "from nltk.stem.cistem import Cistem\n",
    "from nltk.corpus import stopwords\n",
    "from ranx import Qrels, evaluate, Run\n",
    "import swifter\n",
    "import json\n",
    "import requests\n",
    "from sklearn.preprocessing import LabelEncoder\n",
    "from trectools import TrecPoolMaker, TrecRun\n",
    "from tqdm import tqdm\n",
    "from collections import Counter\n",
    "import spacy\n",
    "from sentence_transformers import SentenceTransformer, util, CrossEncoder\n",
    "from operator import itemgetter\n",
    "import joblib\n",
    "import numpy as np"
   ]
  },
  {
   "cell_type": "markdown",
   "id": "afee9433",
   "metadata": {},
   "source": [
    "## Read the QB's sample"
   ]
  },
  {
   "cell_type": "code",
   "execution_count": null,
   "id": "546e6c3a",
   "metadata": {
    "scrolled": true
   },
   "outputs": [],
   "source": [
    "# Read preprocessed data\n",
    "# qb = pd.read_csv(\"/Users/user/question-retrieval-KIPerWeb/testbeds/samples/qb_stratified-sample.csv\").fillna(\"N/A\")\n",
    "# qb = qb.drop(columns=['docid'])\n",
    "# qb.rename(columns={\"category\":\"topic_label_de_fixed\"}, inplace=True)\n",
    "# qb['docid'] = qb.index\n",
    "# qb['content'] = qb['content'].apply(lambda x:remove_stop_words(x, 'german'))\n",
    "\n",
    "\n",
    "# Preprocessing\n",
    "# Models for preprocessing\n",
    "nlp = spacy.load(\"de_core_news_sm\")\n",
    "tagger_de = ht.HanoverTagger('morphmodel_ger.pgz')\n",
    "\n",
    "# qb['content'] = qb['content'].apply(lambda x : preprocess_documents(x, tagger_de))\n",
    "# qb"
   ]
  },
  {
   "cell_type": "markdown",
   "id": "e9be59ae",
   "metadata": {},
   "source": [
    "## Calculate Embeddings and Initialize NMSLIB Indices"
   ]
  },
  {
   "cell_type": "code",
   "execution_count": null,
   "id": "ca6464fe",
   "metadata": {
    "scrolled": true
   },
   "outputs": [],
   "source": [
    "# model_1 = SentenceTransformer(\"sentence-transformers/paraphrase-multilingual-mpnet-base-v2\")\n",
    "# model_2 = SentenceTransformer(\"aari1995/German_Semantic_STS_V2\")\n",
    "# model_3 = SentenceTransformer(\"sentence-transformers/LaBSE\")\n",
    "# model_4 = SentenceTransformer(\"PM-AI/bi-encoder_msmarco_bert-base_german\")\n",
    "# model_5 = SentenceTransformer(\"efederici/e5-base-multilingual-4096\")\n",
    "# model_6 = SentenceTransformer(\"intfloat/multilingual-e5-base\")\n",
    "# model_7 = SentenceTransformer(\"clips/mfaq\")\n",
    "# model_8 = SentenceTransformer(\"PM-AI/sts_paraphrase_xlm-roberta-base_de-en\")\n",
    "# model_9 = SentenceTransformer(\"deutsche-telekom/gbert-large-paraphrase-euclidean\")\n",
    "# model_10 = SentenceTransformer(\"LLukas22/all-MiniLM-L12-v2-embedding-all\")\n",
    "# model_11 = SentenceTransformer(\"LLukas22/paraphrase-multilingual-mpnet-base-v2-embedding-all\")\n",
    "# model_12 = SentenceTransformer(\"sentence-transformers/distiluse-base-multilingual-cased-v1\")\n",
    "# model_13 = SentenceTransformer(\"sentence-transformers/distiluse-base-multilingual-cased-v2\")\n",
    "# model_14 = SentenceTransformer(\"deutsche-telekom/gbert-large-paraphrase-cosine\")\n",
    "# model_15 = SentenceTransformer(\"shibing624/text2vec-base-multilingual\")\n",
    "# model_16 = SentenceTransformer(\"Sahajtomar/German-semantic\")\n",
    "# model_17 = SentenceTransformer(\"setu4993/LaBSE\")\n",
    "# model_18 = SentenceTransformer(\"symanto/sn-xlm-roberta-base-snli-mnli-anli-xnli\")\n",
    "# model_19 = SentenceTransformer(\"and-effect/musterdatenkatalog_clf\")\n",
    "# model_20 = SentenceTransformer(\"nblokker/debatenet-2-cat\")\n",
    "# model_21 = SentenceTransformer(\"setu4993/LEALLA-large\")\n",
    "# model_22 = SentenceTransformer(\"dell-research-harvard/lt-wikidata-comp-de\")\n",
    "# model_23 = SentenceTransformer(\"ef-zulla/e5-multi-sml-torch\")\n",
    "# model_24 = SentenceTransformer(\"barisaydin/text2vec-base-multilingual\")\n",
    "# model_25 = SentenceTransformer(\"meta-llama/Llama-2-7b-chat-hf\")"
   ]
  },
  {
   "cell_type": "code",
   "execution_count": null,
   "id": "3ee02f82",
   "metadata": {},
   "outputs": [],
   "source": [
    "# # # # # Create the indices\n",
    "\n",
    "# # # index_1 = create_index(qb, model_1, index_path=\"/Users/user/question-retrieval-KIPerWeb/nmslib_indices/sentence-transformers-paraphrase-multilingual-mpnet-base-v2.nmslib\")\n",
    "# # # index_2 = create_index(qb, model_2, index_path=\"/Users/user/question-retrieval-KIPerWeb/nmslib_indices/aari1995-German_Semantic_STS_V2.nmslib\")\n",
    "# # # index_3 = create_index(qb, model_3, index_path=\"/Users/user/question-retrieval-KIPerWeb/nmslib_indices/sentence-transformers-LaBSE.nmslib\")\n",
    "# # # index_4 = create_index(qb, model_4, index_path=\"/Users/user/question-retrieval-KIPerWeb/nmslib_indices/PM-AI-bi-encoder_msmarco_bert-base_german.nmslib\")\n",
    "# # # index_5 = create_index(qb, model_5, index_path=\"/Users/user/question-retrieval-KIPerWeb/nmslib_indices/efederici-e5-base-multilingual-4096.nmslib\")\n",
    "# # # index_6 = create_index(qb, model_6, index_path=\"/Users/user/question-retrieval-KIPerWeb/nmslib_indices/intfloat-multilingual-e5-base.nmslib\")\n",
    "# # # index_7 = create_index(qb, model_7, index_path=\"/Users/user/question-retrieval-KIPerWeb/nmslib_indices/clips-mfaq.nmslib\")\n",
    "# # # index_8 = create_index(qb, model_8, index_path=\"/Users/user/question-retrieval-KIPerWeb/nmslib_indices/PM-AI-sts_paraphrase_xlm-roberta-base_de-en.nmslib\")\n",
    "# # # index_9 = create_index(qb, model_9, index_path=\"/Users/user/question-retrieval-KIPerWeb/nmslib_indices/deutsche-telekom-gbert-large-paraphrase-euclidean.nmslib\")\n",
    "# # # index_10 = create_index(qb, model_10, index_path=\"/Users/user/question-retrieval-KIPerWeb/nmslib_indices/LLukas22-all-MiniLM-L12-v2-embedding-all.nmslib\")\n",
    "# # # index_11 = create_index(qb, model_11, index_path=\"/Users/user/question-retrieval-KIPerWeb/nmslib_indices/LLukas22-paraphrase-multilingual-mpnet-base-v2-embedding-all.nmslib\")\n",
    "# # # index_12 = create_index(qb, model_12, index_path=\"/Users/user/question-retrieval-KIPerWeb/nmslib_indices/sentence-transformers-distiluse-base-multilingual-cased-v1.nmslib\")\n",
    "# # # index_13 = create_index(qb, model_13, index_path=\"/Users/user/question-retrieval-KIPerWeb/nmslib_indices/sentence-transformers-distiluse-base-multilingual-cased-v2.nmslib\")\n",
    "# # # index_14 = create_index(qb, model_14, index_path=\"/Users/user/question-retrieval-KIPerWeb/nmslib_indices/deutsche-telekom-gbert-large-paraphrase-cosine.nmslib\")\n",
    "# # # index_15 = create_index(qb, model_15, index_path=\"/Users/user/question-retrieval-KIPerWeb/nmslib_indices/shibing624-text2vec-base-multilingual.nmslib\")\n",
    "# # # index_16 = create_index(qb, model_16, index_path=\"/Users/user/question-retrieval-KIPerWeb/nmslib_indices/Sahajtomar-German-semantic.nmslib\")\n",
    "# # # index_17 = create_index(qb, model_17, index_path=\"/Users/user/question-retrieval-KIPerWeb/nmslib_indices/setu4993-LaBSE.nmslib\")\n",
    "# # # index_18 = create_index(qb, model_18, index_path=\"/Users/user/question-retrieval-KIPerWeb/nmslib_indices/symanto-sn-xlm-roberta-base-snli-mnli-anli-xnli.nmslib\")\n",
    "# # # index_19 = create_index(qb, model_19, index_path=\"/Users/user/question-retrieval-KIPerWeb/nmslib_indices/and-effect-musterdatenkatalog_clf.nmslib\")\n",
    "# # # index_20 = create_index(qb, model_20, index_path=\"/Users/user/question-retrieval-KIPerWeb/nmslib_indices/nblokker-debatenet-2-cat.nmslib\")\n",
    "# # # index_21 = create_index(qb, model_21, index_path=\"/Users/user/question-retrieval-KIPerWeb/nmslib_indices/setu4993-LEALLA-large.nmslib\")\n",
    "# # # index_22 = create_index(qb, model_22, index_path=\"/Users/user/question-retrieval-KIPerWeb/nmslib_indices/dell-research-harvard-lt-wikidata-comp-de.nmslib\")\n",
    "# # # index_23 = create_index(qb, model_23, index_path=\"/Users/user/question-retrieval-KIPerWeb/nmslib_indices/ef-zulla-e5-multi-sml-torch.nmslib\")\n",
    "# # # index_24 = create_index(qb, model_24, index_path=\"/Users/user/question-retrieval-KIPerWeb/nmslib_indices/barisaydin-text2vec-base-multilingual.nmslib\")\n",
    "# # # index_25 = create_index(qb, model_25, index_path=\"/Users/user/question-retrieval-KIPerWeb/nmslib_indices/meta-llama-Llama-2-7b-chat-hf.nmslib\")\n",
    "\n",
    "\n",
    "# # # # Or load them:\n",
    "\n",
    "# index_1 = load_nmslib_index(\"/Users/user/question-retrieval-KIPerWeb/nmslib_indices/sentence-transformers-paraphrase-multilingual-mpnet-base-v2.nmslib\")\n",
    "# index_2 = load_nmslib_index(\"/Users/user/question-retrieval-KIPerWeb/nmslib_indices/aari1995-German_Semantic_STS_V2.nmslib\")\n",
    "# index_3 = load_nmslib_index(\"/Users/user/question-retrieval-KIPerWeb/nmslib_indices/sentence-transformers-LaBSE.nmslib\")\n",
    "# index_4 = load_nmslib_index(\"/Users/user/question-retrieval-KIPerWeb/nmslib_indices/PM-AI-bi-encoder_msmarco_bert-base_german.nmslib\")\n",
    "# index_5 = load_nmslib_index(\"/Users/user/question-retrieval-KIPerWeb/nmslib_indices/efederici-e5-base-multilingual-4096.nmslib\")\n",
    "# index_6 = load_nmslib_index(\"/Users/user/question-retrieval-KIPerWeb/nmslib_indices/intfloat-multilingual-e5-base.nmslib\")\n",
    "# index_7 = load_nmslib_index(\"/Users/user/question-retrieval-KIPerWeb/nmslib_indices/clips-mfaq.nmslib\")\n",
    "# index_8 = load_nmslib_index(\"/Users/user/question-retrieval-KIPerWeb/nmslib_indices/PM-AI-sts_paraphrase_xlm-roberta-base_de-en.nmslib\")\n",
    "# index_9 = load_nmslib_index(\"/Users/user/question-retrieval-KIPerWeb/nmslib_indices/deutsche-telekom-gbert-large-paraphrase-euclidean.nmslib\")\n",
    "# index_10 = load_nmslib_index(\"/Users/user/question-retrieval-KIPerWeb/nmslib_indices/LLukas22-all-MiniLM-L12-v2-embedding-all.nmslib\")\n",
    "# index_11 = load_nmslib_index(\"/Users/user/question-retrieval-KIPerWeb/nmslib_indices/LLukas22-paraphrase-multilingual-mpnet-base-v2-embedding-all.nmslib\")\n",
    "# index_12 = load_nmslib_index(\"/Users/user/question-retrieval-KIPerWeb/nmslib_indices/sentence-transformers-distiluse-base-multilingual-cased-v1.nmslib\")\n",
    "# index_13 = load_nmslib_index(\"/Users/user/question-retrieval-KIPerWeb/nmslib_indices/sentence-transformers-distiluse-base-multilingual-cased-v2.nmslib\")\n",
    "# index_14 = load_nmslib_index(\"/Users/user/question-retrieval-KIPerWeb/nmslib_indices/deutsche-telekom-gbert-large-paraphrase-cosine.nmslib\")\n",
    "# index_15 = load_nmslib_index(\"/Users/user/question-retrieval-KIPerWeb/nmslib_indices/shibing624-text2vec-base-multilingual.nmslib\")\n",
    "# index_16 = load_nmslib_index(\"/Users/user/question-retrieval-KIPerWeb/nmslib_indices/Sahajtomar-German-semantic.nmslib\")\n",
    "# index_17 = load_nmslib_index(\"/Users/user/question-retrieval-KIPerWeb/nmslib_indices/setu4993-LaBSE.nmslib\")\n",
    "# index_18 = load_nmslib_index(\"/Users/user/question-retrieval-KIPerWeb/nmslib_indices/symanto-sn-xlm-roberta-base-snli-mnli-anli-xnli.nmslib\")\n",
    "# index_19 = load_nmslib_index(\"/Users/user/question-retrieval-KIPerWeb/nmslib_indices/and-effect-musterdatenkatalog_clf.nmslib\")\n",
    "# index_20 = load_nmslib_index(\"/Users/user/question-retrieval-KIPerWeb/nmslib_indices/nblokker-debatenet-2-cat.nmslib\")\n",
    "# index_21 = load_nmslib_index(\"/Users/user/question-retrieval-KIPerWeb/nmslib_indices/setu4993-LEALLA-large.nmslib\")\n",
    "# index_22 = load_nmslib_index(\"/Users/user/question-retrieval-KIPerWeb/nmslib_indices/dell-research-harvard-lt-wikidata-comp-de.nmslib\")\n",
    "# index_23 = load_nmslib_index(\"/Users/user/question-retrieval-KIPerWeb/nmslib_indices/ef-zulla-e5-multi-sml-torch.nmslib\")\n",
    "# index_24 = load_nmslib_index(\"/Users/user/question-retrieval-KIPerWeb/nmslib_indices/barisaydin-text2vec-base-multilingual.nmslib\")\n",
    "# index_25 = load_nmslib_index(\"/Users/user/question-retrieval-KIPerWeb/nmslib_indices/meta-llama-Llama-2-7b-chat-hf.nmslib\")\n"
   ]
  },
  {
   "cell_type": "markdown",
   "id": "378bf1d0",
   "metadata": {},
   "source": [
    "## Run Queries Against Search Indices"
   ]
  },
  {
   "cell_type": "code",
   "execution_count": null,
   "id": "f3f5ca5a",
   "metadata": {
    "scrolled": true
   },
   "outputs": [],
   "source": [
    "# query_test = search('Gesundheitswesen'.lower(), index_25, model_25, qb, k=100)['search_output']\n",
    "# query_test"
   ]
  },
  {
   "cell_type": "markdown",
   "id": "6087f4a5",
   "metadata": {},
   "source": [
    "## Load the topics from the BFZ-EdTec Dataset"
   ]
  },
  {
   "cell_type": "code",
   "execution_count": null,
   "id": "ecb11a07",
   "metadata": {},
   "outputs": [],
   "source": [
    "## We could use queries:\n",
    "# queries_file = pd.read_csv(\"/Users/user/question-retrieval-KIPerWeb/testbeds/topics_experiments/topics/topics.csv\")\n",
    "queries_file = pd.read_csv(\"/Users/user/question-retrieval-KIPerWeb/testbeds/queries_experiments/queries/queries.csv\")\n",
    "queries_file['queries'] = queries_file['queries'].apply(clean_text)\n",
    "\n",
    "\n",
    "\n",
    "print(\"-> Number of queries:\",len(queries_file['queries'].tolist()))\n",
    "\n",
    "queries = queries_file['queries'].tolist()\n",
    "query_ids = queries_file['qid'].tolist()\n"
   ]
  },
  {
   "cell_type": "code",
   "execution_count": null,
   "id": "b6b309af",
   "metadata": {
    "scrolled": true
   },
   "outputs": [],
   "source": [
    "\n",
    "\n",
    "\n",
    "def rerank_documents(xgboost_model, sentence_model, doc_query_pairs):\n",
    "    # Load the XGBoost model\n",
    "\n",
    "    # Initialize the list for features and original data\n",
    "    features = []\n",
    "    original_data = []\n",
    "\n",
    "    for doc_id, query, document in doc_query_pairs:\n",
    "        # Convert query and document to embeddings\n",
    "        query_embedding = sentence_model.encode(query, convert_to_tensor=False)\n",
    "        doc_embedding = sentence_model.encode(document, convert_to_tensor=False)\n",
    "\n",
    "        # Create a feature vector\n",
    "        feature_vector = np.concatenate([query_embedding, doc_embedding])\n",
    "        features.append(feature_vector)\n",
    "\n",
    "        # Store the original data\n",
    "        original_data.append((doc_id, query, document))\n",
    "\n",
    "    # Convert the list of features to a numpy array\n",
    "    features_array = np.array(features)\n",
    "\n",
    "    # Predict rankings\n",
    "    predictions = xgboost_model.predict(features_array)\n",
    "\n",
    "    # Combine predictions with the original data\n",
    "    results = [(doc_id, query, document, score) for (doc_id, query, document), score in zip(original_data, predictions)]\n",
    "\n",
    "    return results\n",
    "\n",
    "# # Example usage\n",
    "# xgboost_model_path = 'path_to_your_model.model'\n",
    "# sentence_model = SentenceTransformer('your_model_name')\n",
    "# doc_query_pairs = [('doc1_id', 'query1', 'document1'), ('doc2_id', 'query2', 'document2'), ...]  # Replace with your data\n",
    "\n",
    "# for result in ranked_results:\n",
    "#     print(result)\n",
    "\n",
    "\n",
    "# # rerank_documents(xgboost_model_path, sentence_model, qb['content'].tolist()[:100], queries[0])"
   ]
  },
  {
   "cell_type": "markdown",
   "id": "18c4375e",
   "metadata": {},
   "source": [
    "## Generate searches and store them as JSON files"
   ]
  },
  {
   "cell_type": "code",
   "execution_count": null,
   "id": "d265808e",
   "metadata": {
    "scrolled": true
   },
   "outputs": [],
   "source": [
    "# path = '/Users/user/question-retrieval-KIPerWeb/runs/ANN_CrossEncoder-Re-Ranker/json_format/'\n",
    "\n",
    "\n",
    "# for i, j in zip(queries, query_ids):\n",
    "#     print(i, j)\n",
    "#     search(i, index_1, model_1, qb, k=100, run_path=f'{path}query_{j}/run_01.json')\n",
    "#     search(i, index_2, model_2, qb, k=100, run_path=f'{path}query_{j}/run_02.json')\n",
    "#     search(i, index_3, model_3, qb, k=100, run_path=f'{path}query_{j}/run_03.json')\n",
    "#     search(i, index_4, model_4, qb, k=100, run_path=f'{path}query_{j}/run_04.json')\n",
    "#     search(i, index_5, model_5, qb, k=100, run_path=f'{path}query_{j}/run_05.json')\n",
    "#     search(i, index_6, model_6, qb, k=100, run_path=f'{path}query_{j}/run_06.json')\n",
    "#     search(i, index_7, model_7, qb, k=100, run_path=f'{path}query_{j}/run_07.json')\n",
    "#     search(i, index_8, model_8, qb, k=100, run_path=f'{path}query_{j}/run_08.json')\n",
    "#     search(i, index_9, model_9, qb, k=100, run_path=f'{path}query_{j}/run_09.json')\n",
    "#     search(i, index_10, model_10, qb, k=100, run_path=f'{path}query_{j}/run_10.json')\n",
    "#     search(i, index_11, model_11, qb, k=100, run_path=f'{path}query_{j}/run_11.json')\n",
    "#     search(i, index_12, model_12, qb, k=100, run_path=f'{path}query_{j}/run_12.json')\n",
    "#     search(i, index_13, model_13, qb, k=100, run_path=f'{path}query_{j}/run_13.json')\n",
    "#     search(i, index_14, model_14, qb, k=100, run_path=f'{path}query_{j}/run_14.json')\n",
    "#     search(i, index_15, model_15, qb, k=100, run_path=f'{path}query_{j}/run_15.json')\n",
    "#     search(i, index_16, model_16, qb, k=100, run_path=f'{path}query_{j}/run_16.json')\n",
    "#     search(i, index_17, model_17, qb, k=100, run_path=f'{path}query_{j}/run_17.json')\n",
    "#     search(i, index_18, model_18, qb, k=100, run_path=f'{path}query_{j}/run_18.json')\n",
    "#     search(i, index_19, model_19, qb, k=100, run_path=f'{path}query_{j}/run_19.json')\n",
    "#     search(i, index_20, model_20, qb, k=100, run_path=f'{path}query_{j}/run_20.json')\n",
    "#     search(i, index_21, model_21, qb, k=100, run_path=f'{path}query_{j}/run_21.json')\n",
    "#     search(i, index_22, model_22, qb, k=100, run_path=f'{path}query_{j}/run_22.json')\n",
    "#     search(i, index_23, model_23, qb, k=100, run_path=f'{path}query_{j}/run_23.json')\n",
    "#     search(i, index_24, model_24, qb, k=100, run_path=f'{path}query_{j}/run_24.json')\n",
    "#     search(i, index_25, model_25, qb, k=100, run_path=f'{path}query_{j}/run_25.json')    "
   ]
  },
  {
   "cell_type": "markdown",
   "id": "f909a7f5",
   "metadata": {},
   "source": [
    "## Preprocess all the synthetic searches and turn them into TREC style files"
   ]
  },
  {
   "cell_type": "code",
   "execution_count": null,
   "id": "7af009b0",
   "metadata": {},
   "outputs": [],
   "source": [
    "# List all the JSON outputs of each run\n",
    "\n",
    "path = '/Users/user/question-retrieval-KIPerWeb/runs/ANN_LM/json_format/'\n",
    "json_files = list_files_from_dir(path, extention='.json')\n",
    "# json_files"
   ]
  },
  {
   "cell_type": "code",
   "execution_count": null,
   "id": "8820ecc9",
   "metadata": {},
   "outputs": [],
   "source": [
    "# We check the size of the sessions\n",
    "file = \"/Users/user/question-retrieval-KIPerWeb/runs/ANN_LM/json_format/query_12/deutsche-telekom_gbert-large-paraphrase-cosine_run_14.json\"\n",
    "# assert 200 == len(read_json(file))"
   ]
  },
  {
   "cell_type": "markdown",
   "id": "c6a03842",
   "metadata": {},
   "source": [
    "## LambdaMart Re-ranker"
   ]
  },
  {
   "cell_type": "code",
   "execution_count": null,
   "id": "b1804c99",
   "metadata": {
    "scrolled": true
   },
   "outputs": [],
   "source": [
    "def reorder_ranked_list(run, order):\n",
    "    id2dict = dict((d['docid'], d) for d in run)\n",
    "    re_ranked = [id2dict[x] for x in order]\n",
    "    return re_ranked\n",
    "\n",
    "\n",
    "\n",
    "xgboost_model = joblib.load('/Users/user/question-retrieval-KIPerWeb/notebooks/ground_truth_acquisition/building_training_dataset/final_xgbranker_model.pkl')\n",
    "model = SentenceTransformer('LLukas22/paraphrase-multilingual-mpnet-base-v2-embedding-all')\n",
    "\n",
    "\n",
    "def re_rank(path, model):\n",
    "    run = read_json(path)\n",
    "    re_ranked_elements = []\n",
    "    doc_ids = []\n",
    "    docs = []\n",
    "    queries = []\n",
    "    for i, j in enumerate(run):\n",
    "        df = pd.Series(j,index=j.keys()).to_frame()\n",
    "        content = ' '.join(df.T['text'].tolist() + df.T['correct_answers_temp'].tolist()) # -> fix this in the other cross encoder re-ranker\n",
    "        content = preprocess_documents(content, tagger_de)\n",
    "        query = df.T['query'].tolist()[0]\n",
    "#         print(f\"Query: {query}\\nContent: {content}\")\n",
    "#         print(\"----------------------------------------\")\n",
    "        doc_ids.append(df.T['docid'].tolist()[0])\n",
    "        docs.append(content)\n",
    "        queries.append(query)\n",
    "\n",
    "    docs = list(zip(doc_ids, queries, docs))\n",
    "    \n",
    "    origial_order = [e[0] for e in docs]\n",
    "    \n",
    "#     print(f\"original order: {origial_order}\")\n",
    "    \n",
    "    scored_data = rerank_documents(xgboost_model, model, docs)\n",
    "    scored_data.sort(key=lambda x: x[3], reverse=True)\n",
    "    re_ranked_list = scored_data\n",
    "    order = [e[0] for e in re_ranked_list]\n",
    "#     print(f\"reordered {order}\")\n",
    "    re_ordered_list = reorder_ranked_list(run, order)\n",
    "    path1 = list(Path(path).parts)[-2:]\n",
    "    path1.insert(1, 'LambdaMart-')\n",
    "    path1 = tuple(path1)\n",
    "    path1 = (path1[0], path1[1] + path1[2])\n",
    "    path1 = '/'.join(path1)\n",
    "    path2 = '/Users/user/question-retrieval-KIPerWeb/runs/ANN_LambdaMArt-Re-Ranker/json_format/'\n",
    "    path3 = path2+path1\n",
    "    return save_dict_as_json(reorder_ranked_list(run, order), path3)\n",
    "\n",
    "\n",
    "for e in tqdm(json_files):\n",
    "    re_rank(e, model)"
   ]
  },
  {
   "cell_type": "code",
   "execution_count": null,
   "id": "ceada590",
   "metadata": {},
   "outputs": [],
   "source": [
    "# List all the JSON outputs of each run\n",
    "\n",
    "path = '/Users/user/question-retrieval-KIPerWeb/runs/ANN_LambdaMArt-Re-Ranker/json_format/'\n",
    "json_files = list_files_from_dir(path, extention='.json')\n",
    "# json_files"
   ]
  },
  {
   "cell_type": "code",
   "execution_count": null,
   "id": "e105fc17",
   "metadata": {},
   "outputs": [],
   "source": [
    "# For each JSON output, transform the results to a TREC format\n",
    "\n",
    "def to_trec_format(a_path):\n",
    "    if Path(a_path).suffix == '.json':\n",
    "        results = read_json(a_path)\n",
    "        ids = []\n",
    "        query = []\n",
    "        similarity = []\n",
    "        for i,j in enumerate(results):\n",
    "            ids.append(j['docid'])\n",
    "            query.append(j['query'])\n",
    "            try:\n",
    "                similarity.append(j['cosine_distance'])\n",
    "            except KeyError:\n",
    "                similarity.append(j['BM25_score'])\n",
    "        a_df = pd.DataFrame({'docno':ids, 'qid':query,'score':similarity})\n",
    "        #         model_name = str('-'.join(Path(e).parts[-1:][0].split('_')[2:-2]))\n",
    "        model_name = list(Path(a_path).parts)[-1:][0]\n",
    "        model_name = [e for e in model_name.split('.') if e!='json']\n",
    "        model_name = ['_'.join(e.split(\"_\")[:-1][:-1]) for e in model_name][0]\n",
    "        \n",
    "\n",
    "        a_df['tag'] = model_name\n",
    "        a_df['Q0'] = 'Q0'\n",
    "        a_df['rank'] = a_df.index+1\n",
    "        a_df = a_df[['qid', 'Q0', 'docno', 'rank', 'score', 'tag']]\n",
    "        \n",
    "        tsv_path = Path(a_path).with_suffix('.tsv')\n",
    "        return a_df.to_csv(tsv_path, index = False, sep = '\\t', header=False)\n",
    "    else:\n",
    "        pass\n",
    "\n",
    "\n",
    "\n",
    "for e in json_files:\n",
    "    try:\n",
    "        to_trec_format(e)\n",
    "    except IndexError:\n",
    "        print(f\"Error! in {e}\")"
   ]
  },
  {
   "cell_type": "code",
   "execution_count": null,
   "id": "c4983484",
   "metadata": {},
   "outputs": [],
   "source": [
    "#list the TREC formatted files, these have a .tsv extention\n",
    "list_files_from_dir(path, extention='.tsv')\n",
    "\n",
    "# Process all the runs and continue with the trec formatting\n",
    "path_list_processed = list_files_from_dir(path, extention='.tsv')\n",
    "\n",
    "list_of_dfs = []\n",
    "for e in path_list_processed:\n",
    "    df = pd.concat([pd.read_csv(e, header=None, sep='\\t', names=[\"queries\", \"Q0\", \"docid\", \"rank\", \"score\", \"tag\"])])\n",
    "    list_of_dfs.append(df)\n",
    "    \n",
    "\n",
    "\n",
    "all_runs = pd.concat(list_of_dfs).reset_index(drop=True)\n",
    "\n",
    "\n",
    "all_runs= all_runs.merge(queries_file,on='queries')\n",
    "all_runs = all_runs[[\"qid\", \"Q0\", \"docid\", \"score\", \"rank\", \"tag\"]]\n",
    "\n",
    "all_runs['qid'] = all_runs['qid'].astype(str)\n",
    "all_runs['docid'] = all_runs['docid'].astype(str)\n",
    "\n",
    "all_runs"
   ]
  },
  {
   "cell_type": "code",
   "execution_count": null,
   "id": "0b4e586b",
   "metadata": {},
   "outputs": [],
   "source": [
    "# Extract runs by different LMs\n",
    "queries = list(set(all_runs['qid']))\n",
    "L_models = list(set(all_runs['tag']))\n",
    "runs = [all_runs.query(f'tag==\"{e}\"') for e in L_models]\n",
    "\n",
    "for i, j in zip(runs, L_models):\n",
    "    i.to_csv(f'/Users/user/question-retrieval-KIPerWeb/runs/ANN_LambdaMArt-Re-Ranker/trec_format/{j}_run.txt', header = None, sep='\\t',index=False )\n",
    "#     i.to_csv(f'/Users/user/question-retrieval-KIPerWeb/runs/ANN_CrossEncoder-Re-Ranker/trec_format/{j}_run.txt',index=False )\n",
    "    "
   ]
  },
  {
   "cell_type": "code",
   "execution_count": null,
   "id": "cc2b3b51",
   "metadata": {},
   "outputs": [],
   "source": [
    "f = \"/Users/user/question-retrieval-KIPerWeb/testbeds/queries_experiments/trec_pools/testbed.csv\"\n",
    "\n",
    "qrels_df = pd.read_csv(f)\n",
    "qrels_df['qid'] = qrels_df['qid'].astype(str)\n",
    "qrels_df['docid'] = qrels_df['docid'].astype(str)\n",
    "\n",
    "qrels = Qrels.from_df(\n",
    "    df=qrels_df,\n",
    "    q_id_col=\"qid\",\n",
    "    doc_id_col=\"docid\",\n",
    "    score_col=\"qrel\",\n",
    ")"
   ]
  },
  {
   "cell_type": "code",
   "execution_count": null,
   "id": "3ad7e2fe",
   "metadata": {},
   "outputs": [],
   "source": [
    "\n",
    "\n",
    "\n",
    "path = '/Users/user/question-retrieval-KIPerWeb/runs/ANN_LambdaMArt-Re-Ranker/trec_format/'\n",
    "trec_runs = list_files_from_dir(path, extention='.txt')\n",
    "trec_runs\n",
    "\n",
    "runs = []\n",
    "for e in trec_runs:\n",
    "    runs.append(Run.from_file(e))\n",
    "    \n",
    "runs_names = []\n",
    "for e in trec_runs:\n",
    "    runs_names.append(get_last_element_of_path(e))\n",
    "\n"
   ]
  },
  {
   "cell_type": "code",
   "execution_count": null,
   "id": "b062e7e9",
   "metadata": {},
   "outputs": [],
   "source": [
    "report = create_report(qrels, runs, runs_names, 25,\"/Users/user/question-retrieval-KIPerWeb/data/results/LambdaMart_Re-ranker/ann_LambdaMart_at_25.csv\")\n",
    "report.sort_values(by='mrr@25',  ascending=False).head(5)"
   ]
  },
  {
   "cell_type": "code",
   "execution_count": null,
   "id": "9fdec9b3",
   "metadata": {},
   "outputs": [],
   "source": [
    "report = create_report(qrels, runs, runs_names, 50,\"/Users/user/question-retrieval-KIPerWeb/data/results/LambdaMart_Re-ranker/ann_LambdaMart_at_100.csv\")\n",
    "report.sort_values(by='mrr@50',  ascending=False).head(5)"
   ]
  },
  {
   "cell_type": "code",
   "execution_count": null,
   "id": "d9d7aa5e",
   "metadata": {},
   "outputs": [],
   "source": [
    "report = create_report(qrels, runs, runs_names, 100,\"/Users/user/question-retrieval-KIPerWeb/data/results/LambdaMart_Re-ranker/ann_LambdaMart_at_100.csv\")\n",
    "report.sort_values(by='mrr@100',  ascending=False).head(5)"
   ]
  }
 ],
 "metadata": {
  "kernelspec": {
   "display_name": "Python 3 (ipykernel)",
   "language": "python",
   "name": "python3"
  },
  "language_info": {
   "codemirror_mode": {
    "name": "ipython",
    "version": 3
   },
   "file_extension": ".py",
   "mimetype": "text/x-python",
   "name": "python",
   "nbconvert_exporter": "python",
   "pygments_lexer": "ipython3",
   "version": "3.9.19"
  }
 },
 "nbformat": 4,
 "nbformat_minor": 5
}
