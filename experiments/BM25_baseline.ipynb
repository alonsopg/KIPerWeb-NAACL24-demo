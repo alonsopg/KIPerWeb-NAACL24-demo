{
 "cells": [
  {
   "cell_type": "code",
   "execution_count": null,
   "id": "9375cab6",
   "metadata": {
    "scrolled": true
   },
   "outputs": [],
   "source": [
    "import sys\n",
    "sys.path.append(\"/Users/user/question-retrieval-KIPerWeb/\")\n",
    "from utils import *\n",
    "import pandas as pd\n",
    "import re\n",
    "from sentence_transformers import SentenceTransformer\n",
    "import json\n",
    "from nltk.stem.cistem import Cistem\n",
    "from nltk.corpus import stopwords\n",
    "from ranx import Qrels, evaluate, Run\n",
    "import swifter\n",
    "import json\n",
    "import requests\n",
    "from sklearn.preprocessing import LabelEncoder\n",
    "from trectools import TrecPoolMaker, TrecRun\n",
    "from tqdm import tqdm\n",
    "from collections import Counter\n",
    "import spacy\n",
    "\n",
    "from rank_bm25 import BM25Okapi\n",
    "from pprint import pprint\n",
    "\n",
    "\n"
   ]
  },
  {
   "cell_type": "code",
   "execution_count": null,
   "id": "4574fbce",
   "metadata": {
    "scrolled": true
   },
   "outputs": [],
   "source": [
    "# Read preprocessed data\n",
    "qb = pd.read_csv(\"/Users/user/question-retrieval-KIPerWeb/testbeds/samples/qb_stratified-sample.csv\").fillna(\"N/A\")\n",
    "# df = df.query(\"topic_label_de!='unbekannt'\").reset_index()\n",
    "qb = qb.drop(columns=['docid'])\n",
    "qb.rename(columns={\"category\":\"topic_label_de_fixed\"}, inplace=True)\n",
    "qb['docid'] = qb.index\n",
    "\n",
    "qb['content'] = qb['content'].apply(lambda x:remove_stop_words(x, 'german'))\n",
    "\n",
    "\n",
    "# Preprocessing\n",
    "# Models for preprocessing\n",
    "nlp = spacy.load(\"de_core_news_sm\")\n",
    "tagger_de = ht.HanoverTagger('morphmodel_ger.pgz')\n",
    "\n",
    "qb['content'] = qb['content'].apply(lambda x : preprocess_documents(x, tagger_de))\n",
    "qb"
   ]
  },
  {
   "cell_type": "code",
   "execution_count": null,
   "id": "fcea06db",
   "metadata": {},
   "outputs": [],
   "source": [
    "print(list(qb.columns))"
   ]
  },
  {
   "cell_type": "markdown",
   "id": "7596caf6",
   "metadata": {},
   "source": [
    "## BM25 Model\n"
   ]
  },
  {
   "cell_type": "code",
   "execution_count": null,
   "id": "67056ac9",
   "metadata": {
    "scrolled": true
   },
   "outputs": [],
   "source": [
    "# from gensim.summarization.bm25 import BM25\n",
    "from gensim.summarization.bm25 import BM25\n",
    "from pprint import pprint\n",
    "    \n",
    "def BM25_ranker(query, df, k, **kwargs):\n",
    "\n",
    "    df['temp_index'] = df.index\n",
    "    corpus = df['content'].tolist()\n",
    "    bm25 = BM25(corpus)\n",
    "    scores = bm25.get_scores(query)\n",
    "    indices = sorted(range(len(scores)), key=lambda i: scores[i], reverse=True)[:k]\n",
    "    scores = bm25.get_scores(query)[:k]\n",
    "    results_df = df.query(\"temp_index in @indices\")[[\"docid\", \"onlinetest_title\", \"question_type_id\", \"question_type_name\", \"answer_type_id\", \"answer_type_name\", \"text\", \"correct_answers_temp\", \"variable\", \"points\", \"answers\", \"source\", \"level_difficulty\", \"topic_label_de_fixed\", \"related_topics\"]]\n",
    "    question_ids = results_df['docid'].tolist()\n",
    "    results = list(results_df.T.to_dict().values())\n",
    "    for i, j in zip(results, scores):\n",
    "        i['BM25_score'] = j\n",
    "    for e in results:\n",
    "        e['query'] = query\n",
    "    if 'run_path' in kwargs:\n",
    "        save_to_json(results, kwargs['run_path'], model_name='BM25')\n",
    "    else:\n",
    "        pass\n",
    "    return results\n",
    "\n",
    "BM25_ranker('konzentrationsproblem', qb, 5, run_path='/Users/user/Downloads/run_updated_vbm25.json')\n"
   ]
  },
  {
   "cell_type": "markdown",
   "id": "4b4f6b8b",
   "metadata": {},
   "source": [
    "## Run Queries Against Search Indices"
   ]
  },
  {
   "cell_type": "code",
   "execution_count": null,
   "id": "0252b894",
   "metadata": {},
   "outputs": [],
   "source": [
    "\n",
    "queries_file = pd.read_csv(\"/Users/user/question-retrieval-KIPerWeb/testbeds/queries_experiments/queries/queries.csv\")\n",
    "queries_file['queries'] = queries_file['queries'].apply(clean_text)\n",
    "\n",
    "\n",
    "\n",
    "print(\"-> Number of queries:\",len(queries_file['queries'].tolist()))\n",
    "\n",
    "queries = queries_file['queries'].tolist()\n",
    "query_ids = queries_file['qid'].tolist()\n"
   ]
  },
  {
   "cell_type": "code",
   "execution_count": null,
   "id": "b1db9c86",
   "metadata": {
    "scrolled": true
   },
   "outputs": [],
   "source": [
    "\n",
    "path = '/Users/user/question-retrieval-KIPerWeb/runs/BM25/json_format/'\n",
    "\n",
    "\n",
    "for i, j in zip(queries, query_ids):\n",
    "    BM25_ranker(i, qb, k=100, run_path=f'{path}query_{j}/run_{j}.json')\n"
   ]
  },
  {
   "cell_type": "code",
   "execution_count": null,
   "id": "19549f79",
   "metadata": {},
   "outputs": [],
   "source": [
    "path = '/Users/user/question-retrieval-KIPerWeb/runs/BM25/'\n",
    "\n",
    "json_files = list_files_from_dir(path, extention='.json')\n",
    "json_files"
   ]
  },
  {
   "cell_type": "code",
   "execution_count": null,
   "id": "1f4e8f1a",
   "metadata": {},
   "outputs": [],
   "source": [
    "# For each JSON output, transform the results to a TREC format\n",
    "\n",
    "for e in json_files:\n",
    "    try:\n",
    "        to_trec_format(e)\n",
    "    except IndexError:\n",
    "        print(f\"Error! in {e}\")"
   ]
  },
  {
   "cell_type": "code",
   "execution_count": null,
   "id": "971dd733",
   "metadata": {},
   "outputs": [],
   "source": [
    "list_files_from_dir(path, extention='.tsv')"
   ]
  },
  {
   "cell_type": "code",
   "execution_count": null,
   "id": "25a931c5",
   "metadata": {},
   "outputs": [],
   "source": [
    "\n",
    "path_list_processed = list_files_from_dir(path, extention='.tsv')\n",
    "\n",
    "list_of_dfs = []\n",
    "for e in path_list_processed:\n",
    "    df = pd.concat([pd.read_csv(e, header=None, sep='\\t', names=[\"queries\", \"Q0\", \"docid\", \"rank\", \"score\", \"tag\"])])\n",
    "    list_of_dfs.append(df)\n",
    "    \n",
    "\n",
    "\n",
    "all_runs = pd.concat(list_of_dfs).reset_index(drop=True)\n",
    "all_runs = pd.merge(queries_file, all_runs, on='queries', how='inner')[['qid', 'Q0', 'docid', 'rank', 'score','tag']]\n",
    "all_runs['qid'] = all_runs['qid'].astype(str)\n",
    "all_runs['docid'] = all_runs['docid'].astype(str)\n",
    "all_runs"
   ]
  },
  {
   "cell_type": "code",
   "execution_count": null,
   "id": "df465000",
   "metadata": {},
   "outputs": [],
   "source": [
    "L_models = list(set(all_runs['tag']))\n",
    "runs = [all_runs.query(f'tag==\"{e}\"') for e in L_models]\n",
    "\n",
    "for i, j in zip(runs, L_models):\n",
    "    i.to_csv(f'/Users/user/question-retrieval-KIPerWeb/runs/BM25/trec_format/{j}_run.txt', header = None, sep='\\t',index=False )\n",
    "    "
   ]
  },
  {
   "cell_type": "code",
   "execution_count": null,
   "id": "021f1a58",
   "metadata": {},
   "outputs": [],
   "source": [
    "# from ranx import Qrels, evaluate, Run\n",
    "\n",
    "bm25_run = Run.from_file(\"/Users/user/question-retrieval-KIPerWeb/runs/BM25/trec_format/BM25_run.txt\")\n",
    "# bm25_run"
   ]
  },
  {
   "cell_type": "code",
   "execution_count": null,
   "id": "ad382ced",
   "metadata": {
    "scrolled": true
   },
   "outputs": [],
   "source": [
    "\n",
    "f = \"/Users/user/question-retrieval-KIPerWeb/testbeds/queries_experiments/trec_pools/testbed.csv\"\n",
    "\n",
    "qrels_df = pd.read_csv(f)\n",
    "qrels_df['qid'] = qrels_df['qid'].astype(str)\n",
    "qrels_df['docid'] = qrels_df['docid'].astype(str)\n",
    "\n",
    "qrels = Qrels.from_df(\n",
    "    df=qrels_df,\n",
    "    q_id_col=\"qid\",\n",
    "    doc_id_col=\"docid\",\n",
    "    score_col=\"qrel\",\n",
    ")\n"
   ]
  },
  {
   "cell_type": "code",
   "execution_count": null,
   "id": "22b8aceb",
   "metadata": {},
   "outputs": [],
   "source": [
    "results = []\n",
    "runs = [bm25_run]\n",
    "runs_names = ['bm25']\n",
    "\n",
    "\n",
    "report = create_report(qrels, runs,\n",
    "                       runs_names, 25,\"/Users/user/question-retrieval-KIPerWeb/data/results/bm25/bm25_at_25.csv\")\n",
    "\n",
    "report.sort_values(by='mrr@25',  ascending=False)"
   ]
  },
  {
   "cell_type": "code",
   "execution_count": null,
   "id": "e36b10f4",
   "metadata": {},
   "outputs": [],
   "source": [
    "report = create_report(qrels, runs, \n",
    "                       runs_names, 50,\"/Users/user/question-retrieval-KIPerWeb/data/results/bm25/bm25_at_50.csv\")\n",
    "\n",
    "report.sort_values(by='mrr@50',  ascending=False)"
   ]
  },
  {
   "cell_type": "code",
   "execution_count": null,
   "id": "01020136",
   "metadata": {
    "scrolled": true
   },
   "outputs": [],
   "source": [
    "report = create_report(qrels, runs, \n",
    "                       runs_names, 100,\"/Users/user/question-retrieval-KIPerWeb/data/results/bm25/bm25_at_100.csv\")\n",
    "\n",
    "report.sort_values(by='mrr@100',  ascending=False)"
   ]
  }
 ],
 "metadata": {
  "kernelspec": {
   "display_name": "Python 3 (ipykernel)",
   "language": "python",
   "name": "python3"
  },
  "language_info": {
   "codemirror_mode": {
    "name": "ipython",
    "version": 3
   },
   "file_extension": ".py",
   "mimetype": "text/x-python",
   "name": "python",
   "nbconvert_exporter": "python",
   "pygments_lexer": "ipython3",
   "version": "3.9.19"
  }
 },
 "nbformat": 4,
 "nbformat_minor": 5
}
